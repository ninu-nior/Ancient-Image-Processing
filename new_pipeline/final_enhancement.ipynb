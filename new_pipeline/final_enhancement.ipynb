{
 "cells": [
  {
   "cell_type": "code",
   "execution_count": 11,
   "metadata": {},
   "outputs": [
    {
     "name": "stdout",
     "output_type": "stream",
     "text": [
      "Requirement already satisfied: RealESRGAN in c:\\users\\nehal\\appdata\\local\\programs\\python\\python312\\lib\\site-packages (0.3.0)\n",
      "Requirement already satisfied: basicsr>=1.4.2 in c:\\users\\nehal\\appdata\\local\\programs\\python\\python312\\lib\\site-packages (from RealESRGAN) (1.4.2)\n",
      "Requirement already satisfied: facexlib>=0.2.5 in c:\\users\\nehal\\appdata\\local\\programs\\python\\python312\\lib\\site-packages (from RealESRGAN) (0.3.0)\n",
      "Requirement already satisfied: gfpgan>=1.3.5 in c:\\users\\nehal\\appdata\\local\\programs\\python\\python312\\lib\\site-packages (from RealESRGAN) (1.3.8)\n",
      "Requirement already satisfied: numpy in c:\\users\\nehal\\appdata\\local\\programs\\python\\python312\\lib\\site-packages (from RealESRGAN) (1.26.4)\n",
      "Requirement already satisfied: opencv-python in c:\\users\\nehal\\appdata\\local\\programs\\python\\python312\\lib\\site-packages (from RealESRGAN) (4.10.0.84)\n",
      "Requirement already satisfied: Pillow in c:\\users\\nehal\\appdata\\local\\programs\\python\\python312\\lib\\site-packages (from RealESRGAN) (10.4.0)\n",
      "Requirement already satisfied: torch>=1.7 in c:\\users\\nehal\\appdata\\local\\programs\\python\\python312\\lib\\site-packages (from RealESRGAN) (2.6.0)\n",
      "Requirement already satisfied: torchvision in c:\\users\\nehal\\appdata\\local\\programs\\python\\python312\\lib\\site-packages (from RealESRGAN) (0.21.0)\n",
      "Requirement already satisfied: tqdm in c:\\users\\nehal\\appdata\\local\\programs\\python\\python312\\lib\\site-packages (from RealESRGAN) (4.66.4)\n",
      "Requirement already satisfied: addict in c:\\users\\nehal\\appdata\\local\\programs\\python\\python312\\lib\\site-packages (from basicsr>=1.4.2->RealESRGAN) (2.4.0)\n",
      "Requirement already satisfied: future in c:\\users\\nehal\\appdata\\local\\programs\\python\\python312\\lib\\site-packages (from basicsr>=1.4.2->RealESRGAN) (1.0.0)\n",
      "Requirement already satisfied: lmdb in c:\\users\\nehal\\appdata\\local\\programs\\python\\python312\\lib\\site-packages (from basicsr>=1.4.2->RealESRGAN) (1.6.2)\n",
      "Requirement already satisfied: pyyaml in c:\\users\\nehal\\appdata\\local\\programs\\python\\python312\\lib\\site-packages (from basicsr>=1.4.2->RealESRGAN) (6.0.1)\n",
      "Requirement already satisfied: requests in c:\\users\\nehal\\appdata\\local\\programs\\python\\python312\\lib\\site-packages (from basicsr>=1.4.2->RealESRGAN) (2.32.3)\n",
      "Requirement already satisfied: scikit-image in c:\\users\\nehal\\appdata\\local\\programs\\python\\python312\\lib\\site-packages (from basicsr>=1.4.2->RealESRGAN) (0.25.2)\n",
      "Requirement already satisfied: scipy in c:\\users\\nehal\\appdata\\local\\programs\\python\\python312\\lib\\site-packages (from basicsr>=1.4.2->RealESRGAN) (1.13.1)\n",
      "Requirement already satisfied: tb-nightly in c:\\users\\nehal\\appdata\\local\\programs\\python\\python312\\lib\\site-packages (from basicsr>=1.4.2->RealESRGAN) (2.20.0a20250324)\n",
      "Requirement already satisfied: yapf in c:\\users\\nehal\\appdata\\local\\programs\\python\\python312\\lib\\site-packages (from basicsr>=1.4.2->RealESRGAN) (0.43.0)\n",
      "Requirement already satisfied: filterpy in c:\\users\\nehal\\appdata\\local\\programs\\python\\python312\\lib\\site-packages (from facexlib>=0.2.5->RealESRGAN) (1.4.5)\n",
      "Requirement already satisfied: numba in c:\\users\\nehal\\appdata\\local\\programs\\python\\python312\\lib\\site-packages (from facexlib>=0.2.5->RealESRGAN) (0.61.0)\n",
      "Requirement already satisfied: filelock in c:\\users\\nehal\\appdata\\local\\programs\\python\\python312\\lib\\site-packages (from torch>=1.7->RealESRGAN) (3.15.1)\n",
      "Requirement already satisfied: typing-extensions>=4.10.0 in c:\\users\\nehal\\appdata\\local\\programs\\python\\python312\\lib\\site-packages (from torch>=1.7->RealESRGAN) (4.12.2)\n",
      "Requirement already satisfied: networkx in c:\\users\\nehal\\appdata\\local\\programs\\python\\python312\\lib\\site-packages (from torch>=1.7->RealESRGAN) (3.3)\n",
      "Requirement already satisfied: jinja2 in c:\\users\\nehal\\appdata\\local\\programs\\python\\python312\\lib\\site-packages (from torch>=1.7->RealESRGAN) (3.1.4)\n",
      "Requirement already satisfied: fsspec in c:\\users\\nehal\\appdata\\local\\programs\\python\\python312\\lib\\site-packages (from torch>=1.7->RealESRGAN) (2024.5.0)\n",
      "Requirement already satisfied: setuptools in c:\\users\\nehal\\appdata\\local\\programs\\python\\python312\\lib\\site-packages (from torch>=1.7->RealESRGAN) (74.1.2)\n",
      "Requirement already satisfied: sympy==1.13.1 in c:\\users\\nehal\\appdata\\local\\programs\\python\\python312\\lib\\site-packages (from torch>=1.7->RealESRGAN) (1.13.1)\n",
      "Requirement already satisfied: mpmath<1.4,>=1.1.0 in c:\\users\\nehal\\appdata\\local\\programs\\python\\python312\\lib\\site-packages (from sympy==1.13.1->torch>=1.7->RealESRGAN) (1.3.0)\n",
      "Requirement already satisfied: colorama in c:\\users\\nehal\\appdata\\local\\programs\\python\\python312\\lib\\site-packages (from tqdm->RealESRGAN) (0.4.6)\n",
      "Requirement already satisfied: matplotlib in c:\\users\\nehal\\appdata\\local\\programs\\python\\python312\\lib\\site-packages (from filterpy->facexlib>=0.2.5->RealESRGAN) (3.9.0)\n",
      "Requirement already satisfied: MarkupSafe>=2.0 in c:\\users\\nehal\\appdata\\local\\programs\\python\\python312\\lib\\site-packages (from jinja2->torch>=1.7->RealESRGAN) (2.1.5)\n",
      "Requirement already satisfied: llvmlite<0.45,>=0.44.0dev0 in c:\\users\\nehal\\appdata\\local\\programs\\python\\python312\\lib\\site-packages (from numba->facexlib>=0.2.5->RealESRGAN) (0.44.0)\n",
      "Requirement already satisfied: charset-normalizer<4,>=2 in c:\\users\\nehal\\appdata\\local\\programs\\python\\python312\\lib\\site-packages (from requests->basicsr>=1.4.2->RealESRGAN) (3.3.2)\n",
      "Requirement already satisfied: idna<4,>=2.5 in c:\\users\\nehal\\appdata\\local\\programs\\python\\python312\\lib\\site-packages (from requests->basicsr>=1.4.2->RealESRGAN) (3.7)\n",
      "Requirement already satisfied: urllib3<3,>=1.21.1 in c:\\users\\nehal\\appdata\\local\\programs\\python\\python312\\lib\\site-packages (from requests->basicsr>=1.4.2->RealESRGAN) (2.2.2)\n",
      "Requirement already satisfied: certifi>=2017.4.17 in c:\\users\\nehal\\appdata\\local\\programs\\python\\python312\\lib\\site-packages (from requests->basicsr>=1.4.2->RealESRGAN) (2024.7.4)\n",
      "Requirement already satisfied: imageio!=2.35.0,>=2.33 in c:\\users\\nehal\\appdata\\local\\programs\\python\\python312\\lib\\site-packages (from scikit-image->basicsr>=1.4.2->RealESRGAN) (2.37.0)\n",
      "Requirement already satisfied: tifffile>=2022.8.12 in c:\\users\\nehal\\appdata\\local\\programs\\python\\python312\\lib\\site-packages (from scikit-image->basicsr>=1.4.2->RealESRGAN) (2025.3.13)\n",
      "Requirement already satisfied: packaging>=21 in c:\\users\\nehal\\appdata\\local\\programs\\python\\python312\\lib\\site-packages (from scikit-image->basicsr>=1.4.2->RealESRGAN) (24.1)\n",
      "Requirement already satisfied: lazy-loader>=0.4 in c:\\users\\nehal\\appdata\\local\\programs\\python\\python312\\lib\\site-packages (from scikit-image->basicsr>=1.4.2->RealESRGAN) (0.4)\n",
      "Requirement already satisfied: absl-py>=0.4 in c:\\users\\nehal\\appdata\\local\\programs\\python\\python312\\lib\\site-packages (from tb-nightly->basicsr>=1.4.2->RealESRGAN) (2.2.0)\n",
      "Requirement already satisfied: grpcio>=1.48.2 in c:\\users\\nehal\\appdata\\local\\programs\\python\\python312\\lib\\site-packages (from tb-nightly->basicsr>=1.4.2->RealESRGAN) (1.71.0)\n",
      "Requirement already satisfied: markdown>=2.6.8 in c:\\users\\nehal\\appdata\\local\\programs\\python\\python312\\lib\\site-packages (from tb-nightly->basicsr>=1.4.2->RealESRGAN) (3.7)\n",
      "Requirement already satisfied: protobuf!=4.24.0,>=3.19.6 in c:\\users\\nehal\\appdata\\local\\programs\\python\\python312\\lib\\site-packages (from tb-nightly->basicsr>=1.4.2->RealESRGAN) (6.30.1)\n",
      "Requirement already satisfied: six>1.9 in c:\\users\\nehal\\appdata\\local\\programs\\python\\python312\\lib\\site-packages (from tb-nightly->basicsr>=1.4.2->RealESRGAN) (1.16.0)\n",
      "Requirement already satisfied: tensorboard-data-server<0.8.0,>=0.7.0 in c:\\users\\nehal\\appdata\\local\\programs\\python\\python312\\lib\\site-packages (from tb-nightly->basicsr>=1.4.2->RealESRGAN) (0.7.2)\n",
      "Requirement already satisfied: werkzeug>=1.0.1 in c:\\users\\nehal\\appdata\\local\\programs\\python\\python312\\lib\\site-packages (from tb-nightly->basicsr>=1.4.2->RealESRGAN) (3.0.4)\n",
      "Requirement already satisfied: platformdirs>=3.5.1 in c:\\users\\nehal\\appdata\\roaming\\python\\python312\\site-packages (from yapf->basicsr>=1.4.2->RealESRGAN) (4.2.2)\n",
      "Requirement already satisfied: contourpy>=1.0.1 in c:\\users\\nehal\\appdata\\local\\programs\\python\\python312\\lib\\site-packages (from matplotlib->filterpy->facexlib>=0.2.5->RealESRGAN) (1.2.1)\n",
      "Requirement already satisfied: cycler>=0.10 in c:\\users\\nehal\\appdata\\local\\programs\\python\\python312\\lib\\site-packages (from matplotlib->filterpy->facexlib>=0.2.5->RealESRGAN) (0.12.1)\n",
      "Requirement already satisfied: fonttools>=4.22.0 in c:\\users\\nehal\\appdata\\local\\programs\\python\\python312\\lib\\site-packages (from matplotlib->filterpy->facexlib>=0.2.5->RealESRGAN) (4.53.1)\n",
      "Requirement already satisfied: kiwisolver>=1.3.1 in c:\\users\\nehal\\appdata\\local\\programs\\python\\python312\\lib\\site-packages (from matplotlib->filterpy->facexlib>=0.2.5->RealESRGAN) (1.4.5)\n",
      "Requirement already satisfied: pyparsing>=2.3.1 in c:\\users\\nehal\\appdata\\local\\programs\\python\\python312\\lib\\site-packages (from matplotlib->filterpy->facexlib>=0.2.5->RealESRGAN) (3.1.2)\n",
      "Requirement already satisfied: python-dateutil>=2.7 in c:\\users\\nehal\\appdata\\local\\programs\\python\\python312\\lib\\site-packages (from matplotlib->filterpy->facexlib>=0.2.5->RealESRGAN) (2.9.0.post0)\n",
      "Note: you may need to restart the kernel to use updated packages.\n"
     ]
    },
    {
     "name": "stderr",
     "output_type": "stream",
     "text": [
      "\n",
      "[notice] A new release of pip is available: 24.2 -> 25.0.1\n",
      "[notice] To update, run: python.exe -m pip install --upgrade pip\n"
     ]
    }
   ],
   "source": [
    "%pip install RealESRGAN\n"
   ]
  },
  {
   "cell_type": "code",
   "execution_count": 5,
   "metadata": {},
   "outputs": [
    {
     "name": "stdout",
     "output_type": "stream",
     "text": [
      "Requirement already satisfied: opencv-python in c:\\users\\nehal\\appdata\\local\\programs\\python\\python312\\lib\\site-packages (4.10.0.84)\n",
      "Collecting opencv-contrib-python\n",
      "  Using cached opencv_contrib_python-4.11.0.86-cp37-abi3-win_amd64.whl.metadata (20 kB)\n",
      "Requirement already satisfied: numpy>=1.21.2 in c:\\users\\nehal\\appdata\\local\\programs\\python\\python312\\lib\\site-packages (from opencv-python) (1.26.4)\n",
      "Using cached opencv_contrib_python-4.11.0.86-cp37-abi3-win_amd64.whl (46.2 MB)\n",
      "Installing collected packages: opencv-contrib-python\n",
      "Note: you may need to restart the kernel to use updated packages.\n"
     ]
    },
    {
     "name": "stderr",
     "output_type": "stream",
     "text": [
      "ERROR: Could not install packages due to an OSError: [WinError 5] Access is denied: 'c:\\\\Users\\\\Nehal\\\\AppData\\\\Local\\\\Programs\\\\Python\\\\Python312\\\\Lib\\\\site-packages\\\\cv2\\\\cv2.pyd'\n",
      "Consider using the `--user` option or check the permissions.\n",
      "\n",
      "\n",
      "[notice] A new release of pip is available: 24.2 -> 25.0.1\n",
      "[notice] To update, run: python.exe -m pip install --upgrade pip\n"
     ]
    }
   ],
   "source": [
    "%pip install opencv-python opencv-contrib-python\n"
   ]
  },
  {
   "cell_type": "code",
   "execution_count": 3,
   "metadata": {},
   "outputs": [
    {
     "name": "stdout",
     "output_type": "stream",
     "text": [
      "Requirement already satisfied: torch in c:\\users\\nehal\\appdata\\local\\programs\\python\\python312\\lib\\site-packages (2.4.1+cu124)\n",
      "Collecting torch\n",
      "  Using cached torch-2.6.0-cp312-cp312-win_amd64.whl.metadata (28 kB)\n",
      "Requirement already satisfied: torchvision in c:\\users\\nehal\\appdata\\local\\programs\\python\\python312\\lib\\site-packages (0.19.1+cu124)\n",
      "Collecting torchvision\n",
      "  Downloading torchvision-0.21.0-cp312-cp312-win_amd64.whl.metadata (6.3 kB)\n",
      "Requirement already satisfied: filelock in c:\\users\\nehal\\appdata\\local\\programs\\python\\python312\\lib\\site-packages (from torch) (3.15.1)\n",
      "Requirement already satisfied: typing-extensions>=4.10.0 in c:\\users\\nehal\\appdata\\local\\programs\\python\\python312\\lib\\site-packages (from torch) (4.12.2)\n",
      "Requirement already satisfied: networkx in c:\\users\\nehal\\appdata\\local\\programs\\python\\python312\\lib\\site-packages (from torch) (3.3)\n",
      "Requirement already satisfied: jinja2 in c:\\users\\nehal\\appdata\\local\\programs\\python\\python312\\lib\\site-packages (from torch) (3.1.4)\n",
      "Requirement already satisfied: fsspec in c:\\users\\nehal\\appdata\\local\\programs\\python\\python312\\lib\\site-packages (from torch) (2024.5.0)\n",
      "Requirement already satisfied: setuptools in c:\\users\\nehal\\appdata\\local\\programs\\python\\python312\\lib\\site-packages (from torch) (74.1.2)\n",
      "Collecting sympy==1.13.1 (from torch)\n",
      "  Using cached sympy-1.13.1-py3-none-any.whl.metadata (12 kB)\n",
      "Requirement already satisfied: mpmath<1.4,>=1.1.0 in c:\\users\\nehal\\appdata\\local\\programs\\python\\python312\\lib\\site-packages (from sympy==1.13.1->torch) (1.3.0)\n",
      "Requirement already satisfied: numpy in c:\\users\\nehal\\appdata\\local\\programs\\python\\python312\\lib\\site-packages (from torchvision) (1.26.4)\n",
      "Requirement already satisfied: pillow!=8.3.*,>=5.3.0 in c:\\users\\nehal\\appdata\\local\\programs\\python\\python312\\lib\\site-packages (from torchvision) (10.4.0)\n",
      "Requirement already satisfied: MarkupSafe>=2.0 in c:\\users\\nehal\\appdata\\local\\programs\\python\\python312\\lib\\site-packages (from jinja2->torch) (2.1.5)\n",
      "Using cached torch-2.6.0-cp312-cp312-win_amd64.whl (204.1 MB)\n",
      "Using cached sympy-1.13.1-py3-none-any.whl (6.2 MB)\n",
      "Downloading torchvision-0.21.0-cp312-cp312-win_amd64.whl (1.6 MB)\n",
      "   ---------------------------------------- 0.0/1.6 MB ? eta -:--:--\n",
      "   ---------------------------------------- 0.0/1.6 MB ? eta -:--:--\n",
      "   ------ --------------------------------- 0.3/1.6 MB ? eta -:--:--\n",
      "   ------------- -------------------------- 0.5/1.6 MB 985.5 kB/s eta 0:00:02\n",
      "   -------------------- ------------------- 0.8/1.6 MB 838.9 kB/s eta 0:00:01\n",
      "   -------------------- ------------------- 0.8/1.6 MB 838.9 kB/s eta 0:00:01\n",
      "   -------------------------- ------------- 1.0/1.6 MB 774.0 kB/s eta 0:00:01\n",
      "   -------------------------- ------------- 1.0/1.6 MB 774.0 kB/s eta 0:00:01\n",
      "   --------------------------------- ------ 1.3/1.6 MB 838.9 kB/s eta 0:00:01\n",
      "   ---------------------------------------- 1.6/1.6 MB 874.3 kB/s eta 0:00:00\n",
      "Installing collected packages: sympy, torch, torchvision\n",
      "  Attempting uninstall: sympy\n",
      "    Found existing installation: sympy 1.12.1\n",
      "    Uninstalling sympy-1.12.1:\n",
      "      Successfully uninstalled sympy-1.12.1\n",
      "  Attempting uninstall: torch\n",
      "    Found existing installation: torch 2.4.1+cu124\n",
      "    Uninstalling torch-2.4.1+cu124:\n",
      "      Successfully uninstalled torch-2.4.1+cu124\n",
      "  Attempting uninstall: torchvision\n",
      "    Found existing installation: torchvision 0.19.1+cu124\n",
      "    Uninstalling torchvision-0.19.1+cu124:\n",
      "      Successfully uninstalled torchvision-0.19.1+cu124\n",
      "Successfully installed sympy-1.13.1 torch-2.6.0 torchvision-0.21.0\n",
      "Note: you may need to restart the kernel to use updated packages.\n"
     ]
    },
    {
     "name": "stderr",
     "output_type": "stream",
     "text": [
      "  WARNING: Failed to remove contents in a temporary directory 'C:\\Users\\Nehal\\AppData\\Local\\Programs\\Python\\Python312\\Lib\\site-packages\\~orch'.\n",
      "  You can safely remove it manually.\n",
      "  WARNING: Failed to remove contents in a temporary directory 'C:\\Users\\Nehal\\AppData\\Local\\Programs\\Python\\Python312\\Lib\\site-packages\\~orchvision'.\n",
      "  You can safely remove it manually.\n",
      "ERROR: pip's dependency resolver does not currently take into account all the packages that are installed. This behaviour is the source of the following dependency conflicts.\n",
      "torchaudio 2.4.1+cu124 requires torch==2.4.1+cu124, but you have torch 2.6.0 which is incompatible.\n",
      "\n",
      "[notice] A new release of pip is available: 24.2 -> 25.0.1\n",
      "[notice] To update, run: python.exe -m pip install --upgrade pip\n"
     ]
    }
   ],
   "source": [
    "%pip install --upgrade torch torchvision\n"
   ]
  },
  {
   "cell_type": "code",
   "execution_count": null,
   "metadata": {},
   "outputs": [
    {
     "ename": "ModuleNotFoundError",
     "evalue": "No module named 'RealESRGAN'",
     "output_type": "error",
     "traceback": [
      "\u001b[1;31m---------------------------------------------------------------------------\u001b[0m",
      "\u001b[1;31mModuleNotFoundError\u001b[0m                       Traceback (most recent call last)",
      "Cell \u001b[1;32mIn[10], line 4\u001b[0m\n\u001b[0;32m      2\u001b[0m \u001b[38;5;28;01mfrom\u001b[39;00m \u001b[38;5;21;01mPIL\u001b[39;00m \u001b[38;5;28;01mimport\u001b[39;00m Image\n\u001b[0;32m      3\u001b[0m \u001b[38;5;28;01mimport\u001b[39;00m \u001b[38;5;21;01mnumpy\u001b[39;00m \u001b[38;5;28;01mas\u001b[39;00m \u001b[38;5;21;01mnp\u001b[39;00m\n\u001b[1;32m----> 4\u001b[0m \u001b[38;5;28;01mfrom\u001b[39;00m \u001b[38;5;21;01mRealESRGAN\u001b[39;00m \u001b[38;5;28;01mimport\u001b[39;00m RealESRGAN\n\u001b[0;32m      6\u001b[0m device \u001b[38;5;241m=\u001b[39m torch\u001b[38;5;241m.\u001b[39mdevice(\u001b[38;5;124m'\u001b[39m\u001b[38;5;124mcuda\u001b[39m\u001b[38;5;124m'\u001b[39m \u001b[38;5;28;01mif\u001b[39;00m torch\u001b[38;5;241m.\u001b[39mcuda\u001b[38;5;241m.\u001b[39mis_available() \u001b[38;5;28;01melse\u001b[39;00m \u001b[38;5;124m'\u001b[39m\u001b[38;5;124mcpu\u001b[39m\u001b[38;5;124m'\u001b[39m)\n\u001b[0;32m      8\u001b[0m model \u001b[38;5;241m=\u001b[39m RealESRGAN(device, scale\u001b[38;5;241m=\u001b[39m\u001b[38;5;241m4\u001b[39m)\n",
      "\u001b[1;31mModuleNotFoundError\u001b[0m: No module named 'RealESRGAN'"
     ]
    }
   ],
   "source": [
    "import torch\n",
    "from PIL import Image\n",
    "import numpy as np\n",
    "from RealESRGAN import RealESRGAN\n",
    "\n",
    "device = torch.device('cuda' if torch.cuda.is_available() else 'cpu')\n",
    "\n",
    "model = RealESRGAN(device, scale=4)\n",
    "model.load_weights('weights/RealESRGAN_x4.pth', download=True)\n",
    "\n",
    "path_to_image = 'cleaned_text_sauvola.png'\n",
    "image = Image.open(path_to_image).convert('RGB')\n",
    "\n",
    "sr_image = model.predict(image)\n",
    "\n",
    "sr_image.save('results/sr_image.png')\n"
   ]
  },
  {
   "cell_type": "code",
   "execution_count": null,
   "metadata": {},
   "outputs": [],
   "source": []
  },
  {
   "cell_type": "code",
   "execution_count": 6,
   "metadata": {},
   "outputs": [
    {
     "ename": "AttributeError",
     "evalue": "module 'cv2' has no attribute 'dnn_superres'",
     "output_type": "error",
     "traceback": [
      "\u001b[1;31m---------------------------------------------------------------------------\u001b[0m",
      "\u001b[1;31mAttributeError\u001b[0m                            Traceback (most recent call last)",
      "Cell \u001b[1;32mIn[6], line 2\u001b[0m\n\u001b[0;32m      1\u001b[0m \u001b[38;5;28;01mimport\u001b[39;00m \u001b[38;5;21;01mcv2\u001b[39;00m\n\u001b[1;32m----> 2\u001b[0m sr \u001b[38;5;241m=\u001b[39m \u001b[43mcv2\u001b[49m\u001b[38;5;241;43m.\u001b[39;49m\u001b[43mdnn_superres\u001b[49m\u001b[38;5;241m.\u001b[39mDnnSuperResImpl_create()\n\u001b[0;32m      3\u001b[0m sr\u001b[38;5;241m.\u001b[39mreadModel(\u001b[38;5;124m\"\u001b[39m\u001b[38;5;124mEDSR_x4.pb\u001b[39m\u001b[38;5;124m\"\u001b[39m)  \u001b[38;5;66;03m# Load an OpenCV SR model\u001b[39;00m\n\u001b[0;32m      4\u001b[0m sr\u001b[38;5;241m.\u001b[39msetModel(\u001b[38;5;124m\"\u001b[39m\u001b[38;5;124medsr\u001b[39m\u001b[38;5;124m\"\u001b[39m, \u001b[38;5;241m4\u001b[39m)\n",
      "\u001b[1;31mAttributeError\u001b[0m: module 'cv2' has no attribute 'dnn_superres'"
     ]
    }
   ],
   "source": [
    "import cv2\n",
    "sr = cv2.dnn_superres.DnnSuperResImpl_create()\n",
    "sr.readModel(\"EDSR_x4.pb\")  # Load an OpenCV SR model\n",
    "sr.setModel(\"edsr\", 4)\n",
    "img = cv2.imread(\"cleaned_text_sauvola.png\")\n",
    "upscaled = sr.upsample(img)\n",
    "cv2.imwrite(\"final_1.png\", upscaled)\n"
   ]
  },
  {
   "cell_type": "code",
   "execution_count": 12,
   "metadata": {},
   "outputs": [
    {
     "data": {
      "text/plain": [
       "True"
      ]
     },
     "execution_count": 12,
     "metadata": {},
     "output_type": "execute_result"
    }
   ],
   "source": [
    "import cv2\n",
    "import numpy as np\n",
    "\n",
    "# Read image\n",
    "img = cv2.imread(\"cleaned_text_sauvola.png\")\n",
    "\n",
    "# Apply Unsharp Masking\n",
    "gaussian = cv2.GaussianBlur(img, (0, 0), 3)\n",
    "sharpened = cv2.addWeighted(img, 1.5, gaussian, -0.5, 0)\n",
    "\n",
    "cv2.imwrite(\"final_sharpened.png\", sharpened)\n"
   ]
  },
  {
   "cell_type": "code",
   "execution_count": 20,
   "metadata": {},
   "outputs": [
    {
     "data": {
      "text/plain": [
       "True"
      ]
     },
     "execution_count": 20,
     "metadata": {},
     "output_type": "execute_result"
    }
   ],
   "source": [
    "kernel = np.ones((2,2), np.uint8)  # Adjust kernel size\n",
    "morph = cv2.morphologyEx(sharpened, cv2.MORPH_CLOSE, kernel)\n",
    "cv2.imwrite(\"final_morphed.png\", morph)\n"
   ]
  },
  {
   "cell_type": "code",
   "execution_count": null,
   "metadata": {},
   "outputs": [
    {
     "data": {
      "text/plain": [
       "True"
      ]
     },
     "execution_count": 19,
     "metadata": {},
     "output_type": "execute_result"
    }
   ],
   "source": []
  },
  {
   "cell_type": "code",
   "execution_count": null,
   "metadata": {},
   "outputs": [],
   "source": []
  }
 ],
 "metadata": {
  "kernelspec": {
   "display_name": "Python 3",
   "language": "python",
   "name": "python3"
  },
  "language_info": {
   "codemirror_mode": {
    "name": "ipython",
    "version": 3
   },
   "file_extension": ".py",
   "mimetype": "text/x-python",
   "name": "python",
   "nbconvert_exporter": "python",
   "pygments_lexer": "ipython3",
   "version": "3.12.4"
  }
 },
 "nbformat": 4,
 "nbformat_minor": 2
}
